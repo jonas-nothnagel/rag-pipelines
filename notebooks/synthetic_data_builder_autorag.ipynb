{
 "cells": [
  {
   "cell_type": "code",
   "execution_count": 1,
   "metadata": {},
   "outputs": [
    {
     "name": "stderr",
     "output_type": "stream",
     "text": [
      "/Users/jonas/miniconda3/envs/haystack-rag/lib/python3.12/site-packages/pydantic/_internal/_fields.py:160: UserWarning: Field \"model_id\" has conflict with protected namespace \"model_\".\n",
      "\n",
      "You may be able to resolve this warning by setting `model_config['protected_namespaces'] = ()`.\n",
      "  warnings.warn(\n"
     ]
    }
   ],
   "source": [
    "from llama_index.core import SimpleDirectoryReader\n",
    "from llama_index.core.node_parser import TokenTextSplitter\n",
    "from autorag.data.corpus import llama_text_node_to_parquet\n",
    "from pathlib import Path\n",
    "from llama_index.core import SimpleDirectoryReader, ServiceContext, VectorStoreIndex, Document\n",
    "\n",
    "from llama_index.core.node_parser import TokenTextSplitter\n",
    "from llama_index.core.schema import TextNode\n",
    "import pandas as pd\n",
    "\n",
    "from langchain_openai import ChatOpenAI, OpenAIEmbeddings\n",
    "from langchain_community.document_loaders import UnstructuredMarkdownLoader\n",
    "from langchain_text_splitters import (\n",
    "    CharacterTextSplitter,\n",
    "    RecursiveCharacterTextSplitter,\n",
    "    TokenTextSplitter)\n",
    "from autorag.data.corpus import langchain_documents_to_parquet\n",
    "import pandas as pd\n",
    "from llama_index.llms.openai import OpenAI\n",
    "from autorag.data.qacreation import generate_qa_llama_index, make_single_content_qa\n",
    "\n",
    "import re\n",
    "import markdown\n",
    "import os\n",
    "import json"
   ]
  },
  {
   "cell_type": "code",
   "execution_count": 11,
   "metadata": {},
   "outputs": [],
   "source": [
    "from dotenv import load_dotenv\n",
    "load_dotenv()\n",
    "\n",
    "if \"OPENAI_API_KEY\" not in os.environ:\n",
    "    os.environ[\"OPENAI_API_KEY\"] = getpass(\"Enter OpenAI API key:\")"
   ]
  },
  {
   "cell_type": "code",
   "execution_count": 12,
   "metadata": {},
   "outputs": [],
   "source": [
    "# import data\n",
    "markdown_files = []\n",
    "for root, dirs, files in os.walk(\"../data/processed_files\"):\n",
    "    for file in files:\n",
    "        if file.lower().endswith('.md'):\n",
    "            markdown_files.append(os.path.join(root, file))"
   ]
  },
  {
   "cell_type": "code",
   "execution_count": 13,
   "metadata": {},
   "outputs": [
    {
     "name": "stdout",
     "output_type": "stream",
     "text": [
      "Loaded: ../data/processed_files/Fortportal FY2020/Fortportal Regional Referral Hospital Report of Auditor General 2020.md\n",
      "Loaded: ../data/processed_files/Fortportal FY2021/Fortportal Regional Referral Hospital Report FY20202021.md\n",
      "Loaded: ../data/processed_files/Gulu FY2021/Gulu DLG Report of Auditor General 2021.md\n",
      "Loaded: ../data/processed_files/CAG FY2022/Annual Consolidated OAG audit reports 2022.md\n",
      "Loaded: ../data/processed_files/MWTS FY2021/MWTS Report of Auditor General 2021.md\n",
      "Loaded: ../data/processed_files/Fortportal FY2022/Fortportal Regional Referral Hospital Report of Auditor General 2022.md\n",
      "Loaded: ../data/processed_files/Gulu FY2022/Gulu DLG Report of Auditor General 2022.md\n",
      "Loaded: ../data/processed_files/CAG FY2021/Annual Consolidated OAG audit reports 2021.md\n",
      "Loaded: ../data/processed_files/MWTS FY2022/MWTS Report of Auditor General 2022.md\n"
     ]
    }
   ],
   "source": [
    "# Iterate over the file paths\n",
    "loaded_documents = []\n",
    "for doc in markdown_files:\n",
    "    try:\n",
    "        loader = UnstructuredMarkdownLoader(doc)\n",
    "        documents = loader.load()\n",
    "        loaded_documents.extend(documents)\n",
    "        print(f\"Loaded: {doc}\")\n",
    "    except Exception as e:\n",
    "        print(f\"Error loading {doc}: {str(e)}\")"
   ]
  },
  {
   "cell_type": "code",
   "execution_count": 14,
   "metadata": {},
   "outputs": [],
   "source": [
    "# 2. Custom function to normalize text\n",
    "def normalize_text(text):\n",
    "    # Convert to lowercase\n",
    "    text = text.lower()\n",
    "    # Remove extra whitespace\n",
    "    text = re.sub(r'\\s+', ' ', text).strip()\n",
    "    # Remove special characters (customize as needed)\n",
    "    text = re.sub(r'[^a-z0-9\\s]', '', text)\n",
    "    return text\n",
    "\n",
    "# Apply normalization to each document\n",
    "for doc in loaded_documents:\n",
    "    doc.page_content = normalize_text(doc.page_content)"
   ]
  },
  {
   "cell_type": "code",
   "execution_count": 16,
   "metadata": {},
   "outputs": [],
   "source": [
    "loaded_documents = RecursiveCharacterTextSplitter(chunk_size=512, chunk_overlap=128).split_documents(loaded_documents)\n"
   ]
  },
  {
   "cell_type": "code",
   "execution_count": 17,
   "metadata": {},
   "outputs": [],
   "source": [
    "corpus_df = langchain_documents_to_parquet(loaded_documents, '../data/raw/corpus.parquet', upsert=True)"
   ]
  },
  {
   "cell_type": "code",
   "execution_count": 19,
   "metadata": {},
   "outputs": [],
   "source": [
    "llm = OpenAI(model='gpt-3.5-turbo-16k', temperature=1.0)"
   ]
  },
  {
   "cell_type": "code",
   "execution_count": 22,
   "metadata": {},
   "outputs": [],
   "source": [
    "import nest_asyncio\n",
    "nest_asyncio.apply()"
   ]
  },
  {
   "cell_type": "code",
   "execution_count": null,
   "metadata": {},
   "outputs": [],
   "source": [
    "# make qa data\n",
    "qa_df = make_single_content_qa(corpus_df, 50, generate_qa_llama_index, llm=llm, question_num_per_content=1,\n",
    "                               output_filepath='../data/evaluation/qa.parquet')"
   ]
  },
  {
   "cell_type": "code",
   "execution_count": null,
   "metadata": {},
   "outputs": [],
   "source": []
  }
 ],
 "metadata": {
  "kernelspec": {
   "display_name": "haystack-rag",
   "language": "python",
   "name": "python3"
  },
  "language_info": {
   "codemirror_mode": {
    "name": "ipython",
    "version": 3
   },
   "file_extension": ".py",
   "mimetype": "text/x-python",
   "name": "python",
   "nbconvert_exporter": "python",
   "pygments_lexer": "ipython3",
   "version": "3.12.4"
  }
 },
 "nbformat": 4,
 "nbformat_minor": 2
}
