{
 "cells": [
  {
   "cell_type": "code",
   "execution_count": 16,
   "metadata": {},
   "outputs": [],
   "source": [
    "from llama_index.core import SimpleDirectoryReader\n",
    "from llama_index.core.node_parser import TokenTextSplitter\n",
    "from autorag.data.corpus import llama_text_node_to_parquet\n",
    "from pathlib import Path\n",
    "from llama_index.core import SimpleDirectoryReader, ServiceContext, VectorStoreIndex, Document\n",
    "\n",
    "from llama_index.core.node_parser import TokenTextSplitter\n",
    "from llama_index.core.schema import TextNode\n",
    "import pandas as pd\n",
    "\n",
    "from langchain_openai import ChatOpenAI, OpenAIEmbeddings\n",
    "from langchain_community.document_loaders import UnstructuredMarkdownLoader\n",
    "from langchain_text_splitters import (\n",
    "    CharacterTextSplitter,\n",
    "    RecursiveCharacterTextSplitter,\n",
    "    TokenTextSplitter)\n",
    "from autorag.data.corpus import langchain_documents_to_parquet\n",
    "import pandas as pd\n",
    "from llama_index.llms.openai import OpenAI\n",
    "from llama_index.llms.anthropic import Anthropic\n",
    "from langchain_huggingface import HuggingFaceEmbeddings\n",
    "from autorag.data.qacreation import generate_qa_llama_index, make_single_content_qa\n",
    "\n",
    "from autorag.data.qacreation.ragas import generate_qa_ragas\n",
    "\n",
    "import re\n",
    "import getpass\n",
    "import markdown\n",
    "import os\n",
    "import json"
   ]
  },
  {
   "cell_type": "code",
   "execution_count": 17,
   "metadata": {},
   "outputs": [],
   "source": [
    "from dotenv import load_dotenv\n",
    "load_dotenv()\n",
    "\n",
    "if \"OPENAI_API_KEY\" not in os.environ:\n",
    "    os.environ[\"OPENAI_API_KEY\"] = getpass(\"Enter OpenAI API key:\")\n",
    "\n",
    "if \"ANTHROPIC_API_KEY\" not in os.environ:\n",
    "    os.environ[\"ANTHROPIC_API_KEY\"] = getpass(\"Enter Anthropic API key:\")\n",
    "\n",
    "if \"HF_API_KEY\" not in os.environ:\n",
    "    os.environ[\"HF_API_KEY\"] = getpass(\"Enter HF API key:\")"
   ]
  },
  {
   "cell_type": "code",
   "execution_count": 18,
   "metadata": {},
   "outputs": [],
   "source": [
    "# import data\n",
    "markdown_files = []\n",
    "for root, dirs, files in os.walk(\"../data/processed_files\"):\n",
    "    for file in files:\n",
    "        if file.lower().endswith('.md'):\n",
    "            markdown_files.append(os.path.join(root, file))"
   ]
  },
  {
   "cell_type": "code",
   "execution_count": 19,
   "metadata": {},
   "outputs": [
    {
     "name": "stdout",
     "output_type": "stream",
     "text": [
      "Loaded: ../data/processed_files/Fortportal FY2020/Fortportal Regional Referral Hospital Report of Auditor General 2020.md\n",
      "Loaded: ../data/processed_files/Fortportal FY2021/Fortportal Regional Referral Hospital Report FY20202021.md\n",
      "Loaded: ../data/processed_files/Gulu FY2021/Gulu DLG Report of Auditor General 2021.md\n",
      "Loaded: ../data/processed_files/CAG FY2022/Annual Consolidated OAG audit reports 2022.md\n",
      "Loaded: ../data/processed_files/MWTS FY2021/MWTS Report of Auditor General 2021.md\n",
      "Loaded: ../data/processed_files/Fortportal FY2022/Fortportal Regional Referral Hospital Report of Auditor General 2022.md\n",
      "Loaded: ../data/processed_files/Gulu FY2022/Gulu DLG Report of Auditor General 2022.md\n",
      "Loaded: ../data/processed_files/CAG FY2021/Annual Consolidated OAG audit reports 2021.md\n",
      "Loaded: ../data/processed_files/MWTS FY2022/MWTS Report of Auditor General 2022.md\n"
     ]
    }
   ],
   "source": [
    "# Iterate over the file paths\n",
    "loaded_documents = []\n",
    "for doc in markdown_files:\n",
    "    try:\n",
    "        loader = UnstructuredMarkdownLoader(doc)\n",
    "        documents = loader.load()\n",
    "        loaded_documents.extend(documents)\n",
    "        print(f\"Loaded: {doc}\")\n",
    "    except Exception as e:\n",
    "        print(f\"Error loading {doc}: {str(e)}\")"
   ]
  },
  {
   "cell_type": "code",
   "execution_count": 20,
   "metadata": {},
   "outputs": [],
   "source": [
    "# 2. Custom function to normalize text\n",
    "def normalize_text(text):\n",
    "    # Convert to lowercase\n",
    "    text = text.lower()\n",
    "    # Remove extra whitespace\n",
    "    text = re.sub(r'\\s+', ' ', text).strip()\n",
    "    # Remove special characters (customize as needed)\n",
    "    text = re.sub(r'[^a-z0-9\\s]', '', text)\n",
    "    return text\n",
    "\n",
    "# Apply normalization to each document\n",
    "for doc in loaded_documents:\n",
    "    doc.page_content = normalize_text(doc.page_content)"
   ]
  },
  {
   "cell_type": "code",
   "execution_count": 21,
   "metadata": {},
   "outputs": [],
   "source": [
    "loaded_documents = RecursiveCharacterTextSplitter(chunk_size=512, chunk_overlap=128).split_documents(loaded_documents)\n"
   ]
  },
  {
   "cell_type": "code",
   "execution_count": 22,
   "metadata": {},
   "outputs": [],
   "source": [
    "corpus_df = langchain_documents_to_parquet(loaded_documents, '../autorag/corpus.parquet', upsert=True)"
   ]
  },
  {
   "cell_type": "code",
   "execution_count": 27,
   "metadata": {},
   "outputs": [
    {
     "data": {
      "text/html": [
       "<pre style=\"white-space:pre;overflow-x:auto;line-height:normal;font-family:Menlo,'DejaVu Sans Mono',consolas,'Courier New',monospace\"><span style=\"color: #7fbfbf; text-decoration-color: #7fbfbf\">[07/02/24 18:06:45] </span><span style=\"color: #000080; text-decoration-color: #000080\">INFO    </span> <span style=\"font-weight: bold\">[</span>SentenceTransformer.py:<span style=\"color: #008080; text-decoration-color: #008080; font-weight: bold\">189</span><span style=\"font-weight: bold\">]</span> &gt;&gt; Use pytorch device_name:    <a href=\"file:///Users/jonas/miniconda3/envs/haystack-rag/lib/python3.12/site-packages/sentence_transformers/SentenceTransformer.py\" target=\"_blank\"><span style=\"color: #7f7f7f; text-decoration-color: #7f7f7f\">SentenceTransformer.py</span></a><span style=\"color: #7f7f7f; text-decoration-color: #7f7f7f\">:</span><a href=\"file:///Users/jonas/miniconda3/envs/haystack-rag/lib/python3.12/site-packages/sentence_transformers/SentenceTransformer.py#189\" target=\"_blank\"><span style=\"color: #7f7f7f; text-decoration-color: #7f7f7f\">189</span></a>\n",
       "<span style=\"color: #7fbfbf; text-decoration-color: #7fbfbf\">                    </span>         mps                                                         <span style=\"color: #7f7f7f; text-decoration-color: #7f7f7f\">                          </span>\n",
       "</pre>\n"
      ],
      "text/plain": [
       "\u001b[2;36m[07/02/24 18:06:45]\u001b[0m\u001b[2;36m \u001b[0m\u001b[34mINFO    \u001b[0m \u001b[1m[\u001b[0mSentenceTransformer.py:\u001b[1;36m189\u001b[0m\u001b[1m]\u001b[0m >> Use pytorch device_name:    \u001b]8;id=60390;file:///Users/jonas/miniconda3/envs/haystack-rag/lib/python3.12/site-packages/sentence_transformers/SentenceTransformer.py\u001b\\\u001b[2mSentenceTransformer.py\u001b[0m\u001b]8;;\u001b\\\u001b[2m:\u001b[0m\u001b]8;id=460154;file:///Users/jonas/miniconda3/envs/haystack-rag/lib/python3.12/site-packages/sentence_transformers/SentenceTransformer.py#189\u001b\\\u001b[2m189\u001b[0m\u001b]8;;\u001b\\\n",
       "\u001b[2;36m                    \u001b[0m         mps                                                         \u001b[2m                          \u001b[0m\n"
      ]
     },
     "metadata": {},
     "output_type": "display_data"
    },
    {
     "data": {
      "text/html": [
       "<pre style=\"white-space:pre;overflow-x:auto;line-height:normal;font-family:Menlo,'DejaVu Sans Mono',consolas,'Courier New',monospace\"><span style=\"color: #7fbfbf; text-decoration-color: #7fbfbf\">                    </span><span style=\"color: #000080; text-decoration-color: #000080\">INFO    </span> <span style=\"font-weight: bold\">[</span>SentenceTransformer.py:<span style=\"color: #008080; text-decoration-color: #008080; font-weight: bold\">197</span><span style=\"font-weight: bold\">]</span> &gt;&gt; Load pretrained             <a href=\"file:///Users/jonas/miniconda3/envs/haystack-rag/lib/python3.12/site-packages/sentence_transformers/SentenceTransformer.py\" target=\"_blank\"><span style=\"color: #7f7f7f; text-decoration-color: #7f7f7f\">SentenceTransformer.py</span></a><span style=\"color: #7f7f7f; text-decoration-color: #7f7f7f\">:</span><a href=\"file:///Users/jonas/miniconda3/envs/haystack-rag/lib/python3.12/site-packages/sentence_transformers/SentenceTransformer.py#197\" target=\"_blank\"><span style=\"color: #7f7f7f; text-decoration-color: #7f7f7f\">197</span></a>\n",
       "<span style=\"color: #7fbfbf; text-decoration-color: #7fbfbf\">                    </span>         SentenceTransformer: all-MiniLM-L6-v2                       <span style=\"color: #7f7f7f; text-decoration-color: #7f7f7f\">                          </span>\n",
       "</pre>\n"
      ],
      "text/plain": [
       "\u001b[2;36m                   \u001b[0m\u001b[2;36m \u001b[0m\u001b[34mINFO    \u001b[0m \u001b[1m[\u001b[0mSentenceTransformer.py:\u001b[1;36m197\u001b[0m\u001b[1m]\u001b[0m >> Load pretrained             \u001b]8;id=586691;file:///Users/jonas/miniconda3/envs/haystack-rag/lib/python3.12/site-packages/sentence_transformers/SentenceTransformer.py\u001b\\\u001b[2mSentenceTransformer.py\u001b[0m\u001b]8;;\u001b\\\u001b[2m:\u001b[0m\u001b]8;id=194423;file:///Users/jonas/miniconda3/envs/haystack-rag/lib/python3.12/site-packages/sentence_transformers/SentenceTransformer.py#197\u001b\\\u001b[2m197\u001b[0m\u001b]8;;\u001b\\\n",
       "\u001b[2;36m                    \u001b[0m         SentenceTransformer: all-MiniLM-L6-v2                       \u001b[2m                          \u001b[0m\n"
      ]
     },
     "metadata": {},
     "output_type": "display_data"
    }
   ],
   "source": [
    "#import Anthropic model\n",
    "\n",
    "from langchain_anthropic import ChatAnthropic\n",
    "\n",
    "llm = ChatAnthropic(\n",
    "    model=\"claude-3-5-sonnet-20240620\",\n",
    "    temperature=0.5,\n",
    "    max_tokens=1024,\n",
    "    timeout=None,\n",
    "    max_retries=2,\n",
    ")\n",
    "\n",
    "embeddings = HuggingFaceEmbeddings(model_name=\"all-MiniLM-L6-v2\")"
   ]
  },
  {
   "cell_type": "code",
   "execution_count": 12,
   "metadata": {},
   "outputs": [],
   "source": [
    "#llm = OpenAI(model='gpt-3.5-turbo-16k', temperature=0.8)"
   ]
  },
  {
   "cell_type": "code",
   "execution_count": 28,
   "metadata": {},
   "outputs": [],
   "source": [
    "import nest_asyncio\n",
    "nest_asyncio.apply()"
   ]
  },
  {
   "cell_type": "code",
   "execution_count": null,
   "metadata": {},
   "outputs": [],
   "source": [
    "# with RAGAS\n",
    "from ragas.testset.evolutions import simple, reasoning, multi_context, conditional\n",
    "from autorag.data.qacreation.ragas import generate_qa_ragas\n",
    "\n",
    "distributions = {  # uniform distribution\n",
    "    simple: 0.1,\n",
    "    reasoning: 0.35,\n",
    "    multi_context: 0.2,\n",
    "    conditional: 0.35\n",
    "}\n",
    "qa_df = generate_qa_ragas(corpus_df, test_size=50, generator_llm=llm, critic_llm=llm, embedding_model=embeddings, distributions=distributions)"
   ]
  },
  {
   "cell_type": "code",
   "execution_count": null,
   "metadata": {},
   "outputs": [],
   "source": [
    "# make qa data\n",
    "qa_df_claude = make_single_content_qa(corpus_df, 75, generate_qa_llama_index, llm=llm, question_num_per_content=1,\n",
    "                               output_filepath='../autorag/qa.parquet')"
   ]
  },
  {
   "cell_type": "code",
   "execution_count": 39,
   "metadata": {},
   "outputs": [
    {
     "data": {
      "text/html": [
       "<div>\n",
       "<style scoped>\n",
       "    .dataframe tbody tr th:only-of-type {\n",
       "        vertical-align: middle;\n",
       "    }\n",
       "\n",
       "    .dataframe tbody tr th {\n",
       "        vertical-align: top;\n",
       "    }\n",
       "\n",
       "    .dataframe thead th {\n",
       "        text-align: right;\n",
       "    }\n",
       "</style>\n",
       "<table border=\"1\" class=\"dataframe\">\n",
       "  <thead>\n",
       "    <tr style=\"text-align: right;\">\n",
       "      <th></th>\n",
       "      <th>qid</th>\n",
       "      <th>retrieval_gt</th>\n",
       "      <th>query</th>\n",
       "      <th>generation_gt</th>\n",
       "    </tr>\n",
       "  </thead>\n",
       "  <tbody>\n",
       "    <tr>\n",
       "      <th>0</th>\n",
       "      <td>15942580-0847-4df9-b55e-31170508611f</td>\n",
       "      <td>[[36463ae2-668c-4b75-bd8c-2a3eb44a73f8]]</td>\n",
       "      <td>How much money was irregularly diverted from t...</td>\n",
       "      <td>[A total of ugx 1319m was irregularly diverted...</td>\n",
       "    </tr>\n",
       "    <tr>\n",
       "      <th>1</th>\n",
       "      <td>1b0ecaf7-dcd3-41b3-8885-431713e3f623</td>\n",
       "      <td>[[c9ffb554-85f8-4d35-932e-da12c10b9aa2]]</td>\n",
       "      <td>What are the specific pages where the disclose...</td>\n",
       "      <td>[The matters disclosed under Note 19 can be fo...</td>\n",
       "    </tr>\n",
       "    <tr>\n",
       "      <th>2</th>\n",
       "      <td>e1eb90eb-86a1-4726-933e-39668407278c</td>\n",
       "      <td>[[d5b154b7-91c3-44b4-a63d-90a373ada346]]</td>\n",
       "      <td>What was the reason for inefficiencies in the ...</td>\n",
       "      <td>[The institute had two IT systems that were no...</td>\n",
       "    </tr>\n",
       "    <tr>\n",
       "      <th>3</th>\n",
       "      <td>ca123f07-57a0-4ae3-a0f8-be93695b7b6d</td>\n",
       "      <td>[[f3186d2a-2e4f-4109-8309-1fd3c055fa26]]</td>\n",
       "      <td>According to which act is the accounting offic...</td>\n",
       "      <td>[The accounting officer is accountable to parl...</td>\n",
       "    </tr>\n",
       "    <tr>\n",
       "      <th>4</th>\n",
       "      <td>6637917d-26f3-4049-b936-704371ba5e97</td>\n",
       "      <td>[[e5f5e28e-e1f7-44d8-a188-8babcbdedc2f]]</td>\n",
       "      <td>What was the end user off peak tariff for extr...</td>\n",
       "      <td>[The end user off peak tariff for extra large ...</td>\n",
       "    </tr>\n",
       "    <tr>\n",
       "      <th>...</th>\n",
       "      <td>...</td>\n",
       "      <td>...</td>\n",
       "      <td>...</td>\n",
       "      <td>...</td>\n",
       "    </tr>\n",
       "    <tr>\n",
       "      <th>70</th>\n",
       "      <td>b8633b1a-552a-4f3d-bea6-31ab727f9327</td>\n",
       "      <td>[[01e22b3f-3147-41af-92db-0001ca14ddc9]]</td>\n",
       "      <td>What was the total expenditure of the unqualif...</td>\n",
       "      <td>[The total expenditure of the unqualified acti...</td>\n",
       "    </tr>\n",
       "    <tr>\n",
       "      <th>71</th>\n",
       "      <td>70d68e15-9fe7-4531-a9d8-ba7371e05856</td>\n",
       "      <td>[[2e702d71-6fe6-48fe-a2b2-c8c4a68dfe70]]</td>\n",
       "      <td>How much revenue was collected during the fina...</td>\n",
       "      <td>[Only UGX141750bn was realized by the entity, ...</td>\n",
       "    </tr>\n",
       "    <tr>\n",
       "      <th>72</th>\n",
       "      <td>08ec3b6d-0855-4a91-9cb5-2e618f48bbef</td>\n",
       "      <td>[[f17d87a8-3dc7-4ece-a184-6effd8942fc8]]</td>\n",
       "      <td>How much did the hospital make in payments for...</td>\n",
       "      <td>[The hospital made payments for nonexistent li...</td>\n",
       "    </tr>\n",
       "    <tr>\n",
       "      <th>73</th>\n",
       "      <td>9c4dbf34-ec54-4590-929d-684a4daf601e</td>\n",
       "      <td>[[775b28b3-c844-4540-a527-bcb573993e91]]</td>\n",
       "      <td>What are the entities mentioned in the text?</td>\n",
       "      <td>[The entities mentioned in the text include Ka...</td>\n",
       "    </tr>\n",
       "    <tr>\n",
       "      <th>74</th>\n",
       "      <td>9002da37-39d5-45ae-8809-fb89cab59fe0</td>\n",
       "      <td>[[b3ffbb85-4591-4c4e-b5b8-8fc5067c10b0]]</td>\n",
       "      <td>What was the reason for the excess payment of ...</td>\n",
       "      <td>[The excess payment of ugx221000000 was due to...</td>\n",
       "    </tr>\n",
       "  </tbody>\n",
       "</table>\n",
       "<p>75 rows × 4 columns</p>\n",
       "</div>"
      ],
      "text/plain": [
       "                                     qid  \\\n",
       "0   15942580-0847-4df9-b55e-31170508611f   \n",
       "1   1b0ecaf7-dcd3-41b3-8885-431713e3f623   \n",
       "2   e1eb90eb-86a1-4726-933e-39668407278c   \n",
       "3   ca123f07-57a0-4ae3-a0f8-be93695b7b6d   \n",
       "4   6637917d-26f3-4049-b936-704371ba5e97   \n",
       "..                                   ...   \n",
       "70  b8633b1a-552a-4f3d-bea6-31ab727f9327   \n",
       "71  70d68e15-9fe7-4531-a9d8-ba7371e05856   \n",
       "72  08ec3b6d-0855-4a91-9cb5-2e618f48bbef   \n",
       "73  9c4dbf34-ec54-4590-929d-684a4daf601e   \n",
       "74  9002da37-39d5-45ae-8809-fb89cab59fe0   \n",
       "\n",
       "                                retrieval_gt  \\\n",
       "0   [[36463ae2-668c-4b75-bd8c-2a3eb44a73f8]]   \n",
       "1   [[c9ffb554-85f8-4d35-932e-da12c10b9aa2]]   \n",
       "2   [[d5b154b7-91c3-44b4-a63d-90a373ada346]]   \n",
       "3   [[f3186d2a-2e4f-4109-8309-1fd3c055fa26]]   \n",
       "4   [[e5f5e28e-e1f7-44d8-a188-8babcbdedc2f]]   \n",
       "..                                       ...   \n",
       "70  [[01e22b3f-3147-41af-92db-0001ca14ddc9]]   \n",
       "71  [[2e702d71-6fe6-48fe-a2b2-c8c4a68dfe70]]   \n",
       "72  [[f17d87a8-3dc7-4ece-a184-6effd8942fc8]]   \n",
       "73  [[775b28b3-c844-4540-a527-bcb573993e91]]   \n",
       "74  [[b3ffbb85-4591-4c4e-b5b8-8fc5067c10b0]]   \n",
       "\n",
       "                                                query  \\\n",
       "0   How much money was irregularly diverted from t...   \n",
       "1   What are the specific pages where the disclose...   \n",
       "2   What was the reason for inefficiencies in the ...   \n",
       "3   According to which act is the accounting offic...   \n",
       "4   What was the end user off peak tariff for extr...   \n",
       "..                                                ...   \n",
       "70  What was the total expenditure of the unqualif...   \n",
       "71  How much revenue was collected during the fina...   \n",
       "72  How much did the hospital make in payments for...   \n",
       "73       What are the entities mentioned in the text?   \n",
       "74  What was the reason for the excess payment of ...   \n",
       "\n",
       "                                        generation_gt  \n",
       "0   [A total of ugx 1319m was irregularly diverted...  \n",
       "1   [The matters disclosed under Note 19 can be fo...  \n",
       "2   [The institute had two IT systems that were no...  \n",
       "3   [The accounting officer is accountable to parl...  \n",
       "4   [The end user off peak tariff for extra large ...  \n",
       "..                                                ...  \n",
       "70  [The total expenditure of the unqualified acti...  \n",
       "71  [Only UGX141750bn was realized by the entity, ...  \n",
       "72  [The hospital made payments for nonexistent li...  \n",
       "73  [The entities mentioned in the text include Ka...  \n",
       "74  [The excess payment of ugx221000000 was due to...  \n",
       "\n",
       "[75 rows x 4 columns]"
      ]
     },
     "execution_count": 39,
     "metadata": {},
     "output_type": "execute_result"
    }
   ],
   "source": [
    "qa_df"
   ]
  },
  {
   "cell_type": "code",
   "execution_count": null,
   "metadata": {},
   "outputs": [],
   "source": []
  }
 ],
 "metadata": {
  "kernelspec": {
   "display_name": "haystack-rag",
   "language": "python",
   "name": "python3"
  },
  "language_info": {
   "codemirror_mode": {
    "name": "ipython",
    "version": 3
   },
   "file_extension": ".py",
   "mimetype": "text/x-python",
   "name": "python",
   "nbconvert_exporter": "python",
   "pygments_lexer": "ipython3",
   "version": "3.12.4"
  }
 },
 "nbformat": 4,
 "nbformat_minor": 2
}
