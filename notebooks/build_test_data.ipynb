{
 "cells": [
  {
   "cell_type": "code",
   "execution_count": 2,
   "metadata": {},
   "outputs": [],
   "source": [
    "eval_data = {\n",
    "    \"questions\": [\n",
    "        # MOWT 2022\n",
    "        \"What does Paragraph 2 of Schedule 5 of the PFMA mandate Accounting Officers to do regarding budget implementation, and how has COVID-19 affected this process?\",\n",
    "        \"How did the actual Non-Tax Revenue (NTR) collection for the financial year 2021/2022 compare to the target, and what issue was identified with the target setting?\",\n",
    "        \"How many outputs were fully implemented according to the document?\",\n",
    "        \"What happens if an Accounting Officer does not follow the rules for allocating funds within a vote?\",\n",
    "        # GULU 2022\n",
    "        \"What percentage of wage, pension and gratuity was unspent?\",\n",
    "        \"How many pieces of land lacked Land titles?\",\n",
    "        \"How many pensioners were underpaid and how much?\",\n",
    "        \"What is the danger of not maintaining a risk registers?\",\n",
    "        # Fort Portal Referral Hospital 2018\n",
    "        \"What accounts for domestic arrears in Fort Portal Regional Referral Hospital?\",\n",
    "        \"How much was spent on social  benefits vis-as-viz what was budgeted?\",\n",
    "        # MOWT 2022\n",
    "        \"How much was budgeted for Construction/Rehabilitation of Railway Infrastructure\",\n",
    "        \"What was the budget shortfall/cut for the Purchase of Office and ICT Equipment, including Software?\",\n",
    "        \"How many outputs were fully implemented?\",\n",
    "        \"What is the implication of non implementation of activities?\",\n",
    "        \"How many IT staffing positions are vacant?\",\n",
    "        \"What  was the total mischarged expenditure?\"\n",
    "    ],\n",
    "\n",
    "    \"ground_truths\": [\n",
    "        # MOWT 2022\n",
    "        \"Paragraph 2 of Schedule 5 of the PFMA mandates Accounting Officers to prepare an appropriation account detailing the services funded, actual expenditures, and the status of each vote relative to the appropriated amount, while noting that COVID-19 has posed significant challenges to the implementation of activities, service delivery, and the credibility of the budget.\",\n",
    "        \"The actual Non-Tax Revenue (NTR) collection for the financial year 2021/2022 was UGX.209.00Bn, which is 97% of the targeted UGX.215.63Bn, with the issue being that the NTR target was set by MoFPED without the participation of the Accounting Officer, raising concerns about the target's realism.\",\n",
    "        \"Five outputs were fully implemented.\",\n",
    "        \"If an Accounting Officer does not follow the rules for allocating funds within a vote, they may be held personally liable for any mischarges and diversions of funds through incorrect coding of transactions.\",\n",
    "        # GULU 2022\n",
    "        \"24% was underspent\",\n",
    "        \"76 pieces of land lacked titles\",\n",
    "        \"49 pensioners were underpaid amount equivalent to UG X. 65,798,802\",\n",
    "        \"Failure to maintain risk registers implies that the entity does not have a mitigation or response strategy to risks that may affect the achievement of planned activities\",\n",
    "        # Fort Portal Referral Hospital 2018\n",
    "        \"Under Budgeting for Domestic Arrears where for  the last two Financial  Years, the Accounting  Officer  did not make budget provisions towards settlement of domestic arrears  despite accumulation of a total of UGX 362,688,782 in un-paid obligations\",\n",
    "        \"UGX. 192,228,586 was spent against the planned budget of UGX 135,862,000 registering an excess expenditure of UGX. 56,366, 586\",\n",
    "        # MOWT 2022\n",
    "        \"UGX 29,892,476,459\",\n",
    "        \"UGX 200,000,000\",\n",
    "        \"5\",\n",
    "        \"Non-implementation of planned activities implies that the expected services are not delivered to the beneficiary communities\",\n",
    "        \"5\",\n",
    "        \"UGX 2,097,464,868\"\n",
    "    ]\n",
    "}"
   ]
  },
  {
   "cell_type": "code",
   "execution_count": null,
   "metadata": {},
   "outputs": [],
   "source": []
  }
 ],
 "metadata": {
  "kernelspec": {
   "display_name": "rag-uganda",
   "language": "python",
   "name": "python3"
  },
  "language_info": {
   "codemirror_mode": {
    "name": "ipython",
    "version": 3
   },
   "file_extension": ".py",
   "mimetype": "text/x-python",
   "name": "python",
   "nbconvert_exporter": "python",
   "pygments_lexer": "ipython3",
   "version": "3.10.13"
  }
 },
 "nbformat": 4,
 "nbformat_minor": 2
}
